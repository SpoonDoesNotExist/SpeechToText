{
 "cells": [
  {
   "cell_type": "markdown",
   "id": "b1c3a927",
   "metadata": {},
   "source": [
    "# Device "
   ]
  },
  {
   "cell_type": "code",
   "execution_count": 1,
   "id": "a6427958",
   "metadata": {},
   "outputs": [],
   "source": [
    "import os\n",
    "os.environ['CUDA_VISIBLE_DEVICES']='3'"
   ]
  },
  {
   "cell_type": "code",
   "execution_count": 2,
   "id": "033a4c0e",
   "metadata": {},
   "outputs": [
    {
     "name": "stdout",
     "output_type": "stream",
     "text": [
      "Using device: cuda\n",
      "\n",
      "Tesla K80\n",
      "Memory Usage:\n",
      "Allocated: 0.0 GB\n",
      "Cached:    0.0 GB\n"
     ]
    }
   ],
   "source": [
    "import torch\n",
    "\n",
    "device = torch.device('cuda' if torch.cuda.is_available() else 'cpu')\n",
    "\n",
    "\n",
    "def device_info():\n",
    "    print('Using device:', device)\n",
    "    print()\n",
    "\n",
    "    #Additional Info when using cuda\n",
    "    if device.type == 'cuda':\n",
    "        print(torch.cuda.get_device_name(0))\n",
    "        print('Memory Usage:')\n",
    "        print('Allocated:', round(torch.cuda.memory_allocated(0)/1024**3,1), 'GB')\n",
    "        print('Cached:   ', round(torch.cuda.memory_reserved(0)/1024**3,1), 'GB')\n",
    "        \n",
    "        \n",
    "device_info()"
   ]
  },
  {
   "cell_type": "code",
   "execution_count": 3,
   "id": "bc8d0f30",
   "metadata": {},
   "outputs": [
    {
     "data": {
      "text/plain": [
       "[<torch.cuda.device at 0x7ff33c2e9880>]"
      ]
     },
     "execution_count": 3,
     "metadata": {},
     "output_type": "execute_result"
    }
   ],
   "source": [
    "[torch.cuda.device(i) for i in range(torch.cuda.device_count())]"
   ]
  },
  {
   "cell_type": "markdown",
   "id": "363b5254",
   "metadata": {},
   "source": [
    "# Text transformer"
   ]
  },
  {
   "cell_type": "code",
   "execution_count": 4,
   "id": "2b31a7a9",
   "metadata": {},
   "outputs": [
    {
     "data": {
      "text/plain": [
       "{'^': 0,\n",
       " ' ': 1,\n",
       " 'a': 2,\n",
       " 'b': 3,\n",
       " 'c': 4,\n",
       " 'd': 5,\n",
       " 'e': 6,\n",
       " 'f': 7,\n",
       " 'g': 8,\n",
       " 'h': 9,\n",
       " 'i': 10,\n",
       " 'j': 11,\n",
       " 'k': 12,\n",
       " 'l': 13,\n",
       " 'm': 14,\n",
       " 'n': 15,\n",
       " 'o': 16,\n",
       " 'p': 17,\n",
       " 'q': 18,\n",
       " 'r': 19,\n",
       " 's': 20,\n",
       " 't': 21,\n",
       " 'u': 22,\n",
       " 'v': 23,\n",
       " 'w': 24,\n",
       " 'x': 25,\n",
       " 'y': 26,\n",
       " 'z': 27}"
      ]
     },
     "execution_count": 4,
     "metadata": {},
     "output_type": "execute_result"
    }
   ],
   "source": [
    "ALPHABET='abcdefghijklmnopqrstuvwxyz'\n",
    "EXT_ALPHABET='^ '+ALPHABET\n",
    "\n",
    "class TextTransformer:\n",
    "    def __init__(self,alphabet):\n",
    "        self.char_map={ c:i for i, c in enumerate(list(alphabet))}\n",
    "        self.int_map={ i:c for i, c in enumerate(list(alphabet))}\n",
    "\n",
    "    def text_to_int(self, text):\n",
    "        int_seq=[]\n",
    "        for c in text:\n",
    "            int_seq.append(0.0+self.char_map[c])\n",
    "        return int_seq\n",
    "\n",
    "    def int_to_text(self, int_seq):\n",
    "        text=''\n",
    "        for i in int_seq:\n",
    "            text+=self.int_map[i]\n",
    "        return text\n",
    "\n",
    "text_transform=TextTransformer(EXT_ALPHABET)\n",
    "\n",
    "text_transform.char_map"
   ]
  },
  {
   "cell_type": "markdown",
   "id": "35f6e8b9",
   "metadata": {},
   "source": [
    "# WER CER"
   ]
  },
  {
   "cell_type": "code",
   "execution_count": 5,
   "id": "6fa7c8f7",
   "metadata": {},
   "outputs": [],
   "source": [
    "import numpy as np\n",
    "\n",
    "def calc_wer(target_text: str, pred_text: str):\n",
    "    target=target_text.split(' ')\n",
    "    pred=pred_text.split(' ')\n",
    "\n",
    "    t_len,p_len=len(target),len(pred)\n",
    "\n",
    "    D=np.zeros([t_len+1,p_len+1])\n",
    "    D[0]=np.linspace(0,p_len,p_len+1)\n",
    "    D[:,0]=np.linspace(0,t_len,t_len+1)\n",
    "\n",
    "    for i in range(1,t_len+1):\n",
    "        for j in range(1,p_len+1):\n",
    "            if target[i-1]==pred[j-1]:\n",
    "                D[i,j]=D[i-1,j-1]\n",
    "            else:\n",
    "                substitution=D[i-1,j-1]+1\n",
    "                deletions=D[i-1,j]+1\n",
    "                insertions=D[i,j-1]+1\n",
    "                D[i,j]=min(substitution,deletions,insertions)\n",
    "\n",
    "    return D[t_len,p_len]/t_len\n",
    "\n",
    "\n",
    "def calc_cer(target_text: str, pred_text: str):\n",
    "    target=list(target_text)\n",
    "    pred=list(pred_text)\n",
    "\n",
    "    t_len,p_len=len(target),len(pred)\n",
    "\n",
    "    D=np.zeros([t_len+1,p_len+1])\n",
    "    D[0]=np.linspace(0,p_len,p_len+1)\n",
    "    D[:,0]=np.linspace(0,t_len,t_len+1)\n",
    "\n",
    "    for i in range(1,t_len+1):\n",
    "        for j in range(1,p_len+1):\n",
    "            if target[i-1]==pred[j-1]:\n",
    "                D[i,j]=D[i-1,j-1]\n",
    "            else:\n",
    "                substitution=D[i-1,j-1]+1\n",
    "                deletions=D[i-1,j]+1\n",
    "                insertions=D[i,j-1]+1\n",
    "                D[i,j]=min(substitution,deletions,insertions)\n",
    "\n",
    "    return D[t_len,p_len]/t_len"
   ]
  },
  {
   "cell_type": "markdown",
   "id": "a8aa1b5b",
   "metadata": {},
   "source": [
    "# CTC"
   ]
  },
  {
   "cell_type": "code",
   "execution_count": 6,
   "id": "62d5ad30",
   "metadata": {},
   "outputs": [],
   "source": [
    "import re\n",
    "from collections import defaultdict,Counter\n",
    "\n",
    "BLANK_CHAR='^'\n",
    "BLANK_IDX=0\n",
    "\n",
    "def ctc_greedy_decoder(output, labels, input_lengths, label_lengths):\n",
    "    #output shape (batch,time,n_classes)\n",
    "    tt = TextTransformer(EXT_ALPHABET)\n",
    "    arg_maxes = torch.argmax(output, dim=2)\n",
    "    decodes = []\n",
    "    targets = []\n",
    "    for i, args in enumerate(arg_maxes):\n",
    "        decode = []\n",
    "        targets.append(tt.int_to_text(labels[i][:label_lengths[i]].tolist()))\n",
    "\n",
    "        for j, index in enumerate(args[:input_lengths[i]]):\n",
    "            if index != BLANK_IDX:\n",
    "                if j != 0 and index == args[j-1]:\n",
    "                    continue\n",
    "                decode.append(index.item())\n",
    "        dec_text=tt.int_to_text(decode)\n",
    "        decodes.append(dec_text)\n",
    "    return decodes, targets"
   ]
  },
  {
   "cell_type": "markdown",
   "id": "95f4cf81",
   "metadata": {},
   "source": [
    "# Define model"
   ]
  },
  {
   "cell_type": "code",
   "execution_count": 7,
   "id": "dd209f4f",
   "metadata": {},
   "outputs": [],
   "source": [
    "import torch.nn as nn\n",
    "import torch.nn.functional as F"
   ]
  },
  {
   "cell_type": "code",
   "execution_count": 8,
   "id": "702f5ad5",
   "metadata": {},
   "outputs": [],
   "source": [
    "class Pointwise_conv(nn.Module):\n",
    "    def __init__(self, in_c, out_c):\n",
    "        super().__init__()\n",
    "        self.conv = nn.Conv1d(in_c, out_c, 1)\n",
    "        nn.init.kaiming_uniform_(self.conv.weight, mode='fan_in', nonlinearity='relu')\n",
    "\n",
    "    def forward(self, x):\n",
    "        return self.conv(x)\n",
    "\n",
    "\n",
    "class C_block(nn.Module):\n",
    "    def __init__(self, in_c, out_c, kernel_size, padding='same'):\n",
    "        super().__init__()\n",
    "        self.conv = nn.Conv1d(in_c, out_c, kernel_size,padding=padding)\n",
    "        self.batch_norm = nn.BatchNorm1d(out_c)\n",
    "        \n",
    "        nn.init.kaiming_uniform_(self.conv.weight, mode='fan_in', nonlinearity='relu')\n",
    "\n",
    "    def forward(self, x):\n",
    "        x = self.conv(x)\n",
    "        x = self.batch_norm(x)\n",
    "        x = F.relu(x)\n",
    "\n",
    "        return x\n",
    "\n",
    "\n",
    "class R_block(nn.Module):\n",
    "    def __init__(self, in_c, out_c, kernel_size, stride, activate=True):\n",
    "        super().__init__()\n",
    "        self.activate = activate\n",
    "        \n",
    "        padding='same' if stride==1 else kernel_size//2\n",
    "        \n",
    "        self.conv_depth = nn.Conv1d(\n",
    "            in_c, in_c, \n",
    "            kernel_size, stride=stride,\n",
    "            padding=padding, groups=in_c\n",
    "        )\n",
    "        self.conv_point = nn.Conv1d(in_c, out_c, 1)\n",
    "        self.batch_norm = nn.BatchNorm1d(out_c)\n",
    "        \n",
    "        nn.init.kaiming_uniform_(self.conv_depth.weight, mode='fan_in', nonlinearity='relu')\n",
    "        nn.init.kaiming_uniform_(self.conv_point.weight, mode='fan_in', nonlinearity='relu')\n",
    "\n",
    "    def forward(self, x):\n",
    "        x = self.conv_depth(x)\n",
    "        x = self.conv_point(x)\n",
    "        x = self.batch_norm(x)\n",
    "        if(self.activate):\n",
    "            x = F.relu(x)\n",
    "            \n",
    "        return x\n",
    "\n",
    "\n",
    "class B_block(nn.Module):\n",
    "    def __init__(self, R_size, in_c, out_c, kernel_size, stride, residual=True):\n",
    "        super().__init__()\n",
    "#         self.residual=residual\n",
    "        self.conv_pw = Pointwise_conv(in_c, out_c)\n",
    "        self.batch_norm = nn.BatchNorm1d(out_c)\n",
    "        self.R = nn.Sequential(\n",
    "            *self.generate_R_part(R_size, in_c, out_c, kernel_size, stride)\n",
    "        )\n",
    "        \n",
    "        \n",
    "    def forward(self, x):\n",
    "        x_add = self.conv_pw(x)\n",
    "        x_add = self.batch_norm(x_add)\n",
    "        x = self.R(x)\n",
    "        x = x+x_add\n",
    "        x = F.relu(x)\n",
    "\n",
    "        return x\n",
    "\n",
    "#     def forward(self, x):\n",
    "#         _x = self.R(x)\n",
    "#         if self.residual:\n",
    "#             x_add = self.conv_pw(x)\n",
    "#             x_add = self.batch_norm(x_add)\n",
    "#             _x = _x+x_add\n",
    "#         _x = F.relu(_x)\n",
    "\n",
    "#         return _x\n",
    "\n",
    "    def generate_R_part(self, R_size, in_c, out_c, kernel_size,stride):\n",
    "        r_list = []\n",
    "        for i in range(R_size):\n",
    "            if i == 0:\n",
    "                r_list.append(\n",
    "                    R_block(\n",
    "                        in_c,\n",
    "                        out_c,\n",
    "                        kernel_size,\n",
    "                        stride\n",
    "                    )\n",
    "                )\n",
    "            else:\n",
    "                r_list.append(\n",
    "                    R_block(\n",
    "                        out_c,\n",
    "                        out_c,\n",
    "                        kernel_size,\n",
    "                        stride,\n",
    "                        activate=False\n",
    "                    )\n",
    "                )\n",
    "        return r_list\n",
    "\n",
    "\n",
    "class QuartzNet(nn.Module):\n",
    "    def __init__(self, params):\n",
    "        super().__init__()\n",
    "\n",
    "        c_params = params['c_params']\n",
    "        b_params = params['b_params']\n",
    "        b_size = params['b_size']\n",
    "\n",
    "        self.C_1 = R_block(\n",
    "            c_params['c_1']['in'],\n",
    "            c_params['c_1']['out'],\n",
    "            c_params['c_1']['kernel'],\n",
    "            c_params['c_1']['stride'],\n",
    "        )\n",
    "\n",
    "        self.B = nn.Sequential(\n",
    "            *[B_block(b_size, p['in'], p['out'], p['kernel'], p['stride']) for p in b_params]\n",
    "        )\n",
    "\n",
    "        self.C_2 = R_block(\n",
    "            c_params['c_2']['in'],\n",
    "            c_params['c_2']['out'],\n",
    "            c_params['c_2']['kernel'],\n",
    "            c_params['c_2']['stride']\n",
    "        )\n",
    "        self.C_3 = C_block(\n",
    "            c_params['c_3']['in'],\n",
    "            c_params['c_3']['out'],\n",
    "            c_params['c_3']['kernel'],\n",
    "            c_params['c_3']['stride']\n",
    "        )\n",
    "        self.C_4 = C_block(\n",
    "            c_params['c_4']['in'],\n",
    "            c_params['c_4']['out'],\n",
    "            c_params['c_4']['kernel'],\n",
    "            c_params['c_4']['stride']\n",
    "        )\n",
    "\n",
    "    def forward(self, x):\n",
    "        sizes = x.size()  # (batch,chanel,feature,time)\n",
    "        x = x.view(sizes[0], sizes[1] * sizes[2],sizes[3])  # (batch,chanel,time)\n",
    "        x = self.C_1(x)\n",
    "        x = self.B(x)\n",
    "        x = self.C_2(x)\n",
    "        x = self.C_3(x)\n",
    "        x = self.C_4(x)\n",
    "\n",
    "        return x"
   ]
  },
  {
   "cell_type": "markdown",
   "id": "378300c2",
   "metadata": {},
   "source": [
    "# Librispeech"
   ]
  },
  {
   "cell_type": "code",
   "execution_count": 9,
   "id": "0caca158",
   "metadata": {},
   "outputs": [],
   "source": [
    "class SpectrogramTransform(object):\n",
    "    \"\"\"Transform waveform to Mel spectrogram\"\"\"\n",
    "    \n",
    "    def __init__(self, sample_rate, n_mels):\n",
    "        self.audio_transform=torchaudio.transforms.MelSpectrogram(sample_rate=sample_rate, n_mels=n_mels)\n",
    "\n",
    "    def __call__(self, wav):\n",
    "        spec=self.audio_transform(wav).squeeze(0).transpose(0, 1)\n",
    "        return spec\n",
    "    \n",
    "    \n",
    "class LabelTransform(object):\n",
    "    \"\"\"Tokenize label text\"\"\"\n",
    "    \n",
    "    def __init__(self, alphabet):\n",
    "        self.transformer=TextTransformer(alphabet)\n",
    "\n",
    "    def __call__(self, text):\n",
    "        \n",
    "        text=text.lower()\n",
    "        text = re.sub(r'[^a-z ]', '', text)\n",
    "        text=re.sub('  +',' ',text).strip()\n",
    "        token=torch.tensor(\n",
    "            self.transformer.text_to_int(text)\n",
    "        )\n",
    "        return token\n",
    "    \n",
    "    \n",
    "def speech_collator(data):\n",
    "    \"\"\"Spectrograms and labels padding\n",
    "    \"\"\"\n",
    "    \n",
    "    spectrograms=[]\n",
    "    labels=[]\n",
    "    label_lengths=[]\n",
    "    input_lengths=[]\n",
    "    for spec, label_token in data:\n",
    "        input_lengths.append(spec.shape[0]//2)\n",
    "        label_lengths.append(label_token.shape[0])\n",
    "        \n",
    "        spectrograms.append(spec)\n",
    "        labels.append(label_token)\n",
    "        \n",
    "    spectrograms = nn.utils.rnn.pad_sequence(spectrograms, batch_first=True, padding_value=0.0).unsqueeze(1).transpose(2, 3) #shape: (batch_size,1,n_mels,spec_len)\n",
    "    labels = nn.utils.rnn.pad_sequence(labels, batch_first=True, padding_value=0.0) #shape (batch_size, label_len)\n",
    "    \n",
    "    return spectrograms, labels, input_lengths, label_lengths\n",
    "    "
   ]
  },
  {
   "cell_type": "code",
   "execution_count": 10,
   "id": "fc161b4e",
   "metadata": {},
   "outputs": [
    {
     "name": "stderr",
     "output_type": "stream",
     "text": [
      "################################################################################\n",
      "### WARNING, path does not exist: KALDI_ROOT=/mnt/matylda5/iveselyk/Tools/kaldi-trunk\n",
      "###          (please add 'export KALDI_ROOT=<your_path>' in your $HOME/.profile)\n",
      "###          (or run as: KALDI_ROOT=<your_path> python <your_script>.py)\n",
      "################################################################################\n",
      "\n"
     ]
    }
   ],
   "source": [
    "import os\n",
    "from typing import Tuple, Union\n",
    "from pathlib import Path\n",
    "\n",
    "import torchaudio\n",
    "import torch\n",
    "from torch import Tensor\n",
    "from torch.utils.data import Dataset\n",
    "from torchaudio.datasets.utils import (\n",
    "    download_url,\n",
    "    extract_archive,\n",
    ")\n",
    "\n",
    "URL = \"dev-clean\"\n",
    "FOLDER_IN_ARCHIVE = \"LibriSpeech\"\n",
    "\n",
    "\n",
    "def load_librispeech_item(fileid: str,\n",
    "                          path: str,\n",
    "                          ext_audio: str,\n",
    "                          ext_txt: str) -> Tuple[Tensor, int, str]:\n",
    "    speaker_id, chapter_id, utterance_id = fileid.split(\"-\")\n",
    "\n",
    "    file_text = speaker_id + \"-\" + chapter_id + ext_txt\n",
    "    file_text = os.path.join(path, speaker_id, chapter_id, file_text)\n",
    "\n",
    "    fileid_audio = speaker_id + \"-\" + chapter_id + \"-\" + utterance_id\n",
    "    file_audio = fileid_audio + ext_audio\n",
    "    file_audio = os.path.join(path, speaker_id, chapter_id, file_audio)\n",
    "\n",
    "    # Load audio\n",
    "    waveform, sample_rate = torchaudio.load(file_audio)\n",
    "\n",
    "    # Load text\n",
    "    with open(file_text) as ft:\n",
    "        for line in ft:\n",
    "            fileid_text, transcript = line.strip().split(\" \", 1)\n",
    "            if fileid_audio == fileid_text:\n",
    "                break\n",
    "        else:\n",
    "            # Translation not found\n",
    "            raise FileNotFoundError(\"Translation not found for \" + fileid_audio)\n",
    "\n",
    "    return waveform ,sample_rate, transcript\n",
    "\n",
    "\n",
    "class LIBRISPEECH(Dataset):\n",
    "    \"\"\"Create a Dataset for LibriSpeech.\n",
    "\n",
    "    Args:\n",
    "        root (str or Path): Path to the directory where the dataset is found or downloaded.\n",
    "        url (str, optional): The URL to download the dataset from,\n",
    "            or the type of the dataset to dowload.\n",
    "            Allowed type values are ``\"dev-clean\"``, ``\"dev-other\"``, ``\"test-clean\"``,\n",
    "            ``\"test-other\"``, ``\"train-clean-100\"``, ``\"train-clean-360\"`` and\n",
    "            ``\"train-other-500\"``. (default: ``\"train-clean-100\"``)\n",
    "        folder_in_archive (str, optional):\n",
    "            The top-level directory of the dataset. (default: ``\"LibriSpeech\"``)\n",
    "        download (bool, optional):\n",
    "            Whether to download the dataset if it is not found at root path. (default: ``False``).\n",
    "    \"\"\"\n",
    "\n",
    "    _ext_txt = \".trans.txt\"\n",
    "    _ext_audio = \".flac\"\n",
    "\n",
    "    def __init__(self,\n",
    "                 transform,\n",
    "                 target_transform,\n",
    "                 root: Union[str, Path],\n",
    "                 url: str = URL,\n",
    "                 folder_in_archive: str = FOLDER_IN_ARCHIVE,\n",
    "                 download: bool = False) -> None:\n",
    "        \n",
    "        self.transform=transform\n",
    "        self.target_transform=target_transform\n",
    "        \n",
    "\n",
    "        if url in [\n",
    "            \"dev-clean\",\n",
    "            \"dev-other\",\n",
    "            \"test-clean\",\n",
    "            \"test-other\",\n",
    "            \"train-clean-100\",\n",
    "            \"train-clean-360\",\n",
    "            \"train-other-500\",\n",
    "        ]:\n",
    "\n",
    "            ext_archive = \".tar.gz\"\n",
    "            base_url = \"http://www.openslr.org/resources/12/\"\n",
    "\n",
    "            url = os.path.join(base_url, url + ext_archive)\n",
    "\n",
    "        # Get string representation of 'root' in case Path object is passed\n",
    "        root = os.fspath(root)\n",
    "\n",
    "        basename = os.path.basename(url)\n",
    "        archive = os.path.join(root, basename)\n",
    "\n",
    "        basename = basename.split(\".\")[0]\n",
    "        folder_in_archive = os.path.join(folder_in_archive, basename)\n",
    "\n",
    "        self._path = os.path.join(root, folder_in_archive)\n",
    "\n",
    "#         if download:\n",
    "#             if not os.path.isdir(self._path):\n",
    "#                 if not os.path.isfile(archive):\n",
    "#                     checksum = _CHECKSUMS.get(url, None)\n",
    "#                     download_url(url, root, hash_value=checksum)\n",
    "#                 extract_archive(archive)\n",
    "\n",
    "        self._walker = sorted(str(p.stem) for p in Path(self._path).glob('*/*/*' + self._ext_audio))\n",
    "\n",
    "    def __getitem__(self, n: int) -> Tuple[Tensor, int, str]:\n",
    "        \"\"\"Load the n-th sample from the dataset.\n",
    "\n",
    "        Args:\n",
    "            n (int): The index of the sample to be loaded\n",
    "\n",
    "        Returns:\n",
    "            (Tensor, int, str, int, int, int):\n",
    "            ``(waveform, sample_rate, transcript, speaker_id, chapter_id, utterance_id)``\n",
    "        \"\"\"\n",
    "        fileid = self._walker[n]\n",
    "        \n",
    "        waveform, sample_rate, transcript=load_librispeech_item(\n",
    "            fileid, self._path, self._ext_audio, self._ext_txt\n",
    "        )\n",
    "        \n",
    "        spec=self.transform(waveform)\n",
    "        label_token=self.target_transform(transcript)\n",
    "        \n",
    "        return spec, label_token\n",
    "        \n",
    "\n",
    "\n",
    "    def __len__(self) -> int:\n",
    "        return len(self._walker)"
   ]
  },
  {
   "cell_type": "code",
   "execution_count": 11,
   "id": "af9bb6f5",
   "metadata": {},
   "outputs": [
    {
     "name": "stdout",
     "output_type": "stream",
     "text": [
      "dev-clean\n",
      "train-clean-360\n",
      "Untitled.ipynb\n",
      "dev_clean.json\n",
      "train_clean_360.json\n",
      "test_clean.json\n",
      "word10k\n",
      ".ipynb_checkpoints\n",
      "test-clean\n",
      "LICENSE.TXT\n",
      "README.TXT\n",
      "CHAPTERS.TXT\n",
      "SPEAKERS.TXT\n",
      "BOOKS.TXT\n",
      "test-other\n",
      "cv-corpus-6.1-singleword\n",
      "train-other-500\n",
      "dev-other\n",
      "train-clean-100\n"
     ]
    }
   ],
   "source": [
    "import os\n",
    "\n",
    "info = os.listdir('/nas/librispeech/librispeech/LibriSpeech')\n",
    "print(*info,sep='\\n')"
   ]
  },
  {
   "cell_type": "code",
   "execution_count": 12,
   "id": "a2dede0f",
   "metadata": {},
   "outputs": [],
   "source": [
    "torch.manual_seed(1)\n",
    "kwargs = {'num_workers': 1, 'pin_memory': False} if torch.cuda.is_available() else {}\n",
    "# kwargs = {'num_workers': 2, 'pin_memory': True } if torch.cuda.is_available() else {}\n",
    "\n",
    "\n",
    "transform=SpectrogramTransform(16000,64)\n",
    "target_transform=LabelTransform(EXT_ALPHABET)\n",
    "\n",
    "test_dataset=LIBRISPEECH(\n",
    "    transform=transform,\n",
    "    target_transform=target_transform,\n",
    "    root='/nas/librispeech/librispeech/',\n",
    "    url='test-clean',\n",
    "    download=False\n",
    ")\n",
    "\n",
    "test_data_loader = torch.utils.data.DataLoader(\n",
    "    test_dataset,\n",
    "    batch_size=8,\n",
    "    shuffle=False,\n",
    "    collate_fn=lambda x: speech_collator(x),\n",
    "    **kwargs\n",
    ")\n",
    "\n",
    "\n",
    "train_dataset=LIBRISPEECH(\n",
    "    transform=transform,\n",
    "    target_transform=target_transform,\n",
    "    root='/nas/librispeech/librispeech/',\n",
    "    url='train-clean-100',\n",
    "    download=False\n",
    ")\n",
    "\n",
    "train_data_loader = torch.utils.data.DataLoader(\n",
    "    train_dataset,\n",
    "    batch_size=8,\n",
    "    shuffle=True,\n",
    "    collate_fn=lambda x: speech_collator(x),\n",
    "    **kwargs\n",
    ")"
   ]
  },
  {
   "cell_type": "markdown",
   "id": "679df551",
   "metadata": {},
   "source": [
    "# WandB"
   ]
  },
  {
   "cell_type": "code",
   "execution_count": 14,
   "id": "12c0314c",
   "metadata": {},
   "outputs": [
    {
     "name": "stderr",
     "output_type": "stream",
     "text": [
      "\u001b[34m\u001b[1mwandb\u001b[0m: Currently logged in as: \u001b[33mwhoami\u001b[0m (use `wandb login --relogin` to force relogin)\n"
     ]
    },
    {
     "data": {
      "text/plain": [
       "True"
      ]
     },
     "execution_count": 14,
     "metadata": {},
     "output_type": "execute_result"
    }
   ],
   "source": [
    "import wandb\n",
    "\n",
    "\n",
    "wandb.login()"
   ]
  },
  {
   "cell_type": "markdown",
   "id": "7851de73",
   "metadata": {},
   "source": [
    "# Train Test"
   ]
  },
  {
   "cell_type": "code",
   "execution_count": 15,
   "id": "51f8abb1",
   "metadata": {},
   "outputs": [],
   "source": [
    "class Counter():\n",
    "    def __init__(self, start=0):\n",
    "        self.count=start\n",
    "\n",
    "    def step(self):\n",
    "        self.count=self.count+1\n",
    "        \n",
    "    def get_value(self):\n",
    "        return self.count"
   ]
  },
  {
   "cell_type": "code",
   "execution_count": 16,
   "id": "ec6b0c99",
   "metadata": {},
   "outputs": [],
   "source": [
    "def log_text(pred,target):\n",
    "    table = wandb.Table(columns=[\"Prediction\", \"Target\"])\n",
    "    table.add_data(pred,target)\n",
    "    wandb.log({\"Predictions_table\":table}, commit=False)\n",
    "    \n",
    "def log_params(cer,wer,loss,step,p_type='train'):\n",
    "    wandb.log({\n",
    "        p_type+\"_avg_cer\":cer,\n",
    "        p_type+\"_avg_wer\":wer,\n",
    "        p_type+\"_avg_loss\":loss\n",
    "    },step=step)\n",
    "\n",
    "def log_batch_wandb(step,loss,output, labels, input_lengths, label_lengths,decoded_count=0):\n",
    "\n",
    "    decoded_preds, decoded_targets = ctc_greedy_decoder(\n",
    "        output, labels, input_lengths, label_lengths\n",
    "    )\n",
    "\n",
    "    test_cer, test_wer = [], []\n",
    "    \n",
    "    for j in range(len(decoded_preds)):\n",
    "                test_cer.append(calc_cer(decoded_targets[j], decoded_preds[j]))\n",
    "                test_wer.append(calc_wer(decoded_targets[j], decoded_preds[j]))\n",
    "                \n",
    "                if(j<decoded_count):\n",
    "                    log_text(decoded_preds[j],decoded_targets[j])\n",
    "                \n",
    "    avg_cer = sum(test_cer)/len(test_cer)\n",
    "    avg_wer = sum(test_wer)/len(test_wer)\n",
    "    \n",
    "    log_params(avg_cer,avg_wer,loss,step)"
   ]
  },
  {
   "cell_type": "code",
   "execution_count": 17,
   "id": "73a0ac09",
   "metadata": {},
   "outputs": [],
   "source": [
    "def train(model, device, train_loader, criterion, optimizer,counter: Counter,log_period=100):\n",
    "    model.train()\n",
    "    for batch_idx, _data in enumerate(train_loader):\n",
    "                spectrograms, labels, input_lengths, label_lengths = _data \n",
    "                spectrograms, labels = spectrograms.to(device), labels.to(device)\n",
    "\n",
    "                optimizer.zero_grad()\n",
    "\n",
    "                output = model(spectrograms)  # (batch_size,n_class,time)\n",
    "                output = F.log_softmax(output, dim=1)\n",
    "                output = output.permute(2, 0, 1) # (time, batch_size, n_class)\n",
    "\n",
    "                loss = criterion(output, labels, input_lengths, label_lengths)\n",
    "            \n",
    "                loss.backward()\n",
    "                optimizer.step()\n",
    "                counter.step()\n",
    "                if batch_idx%log_period==0:\n",
    "                    log_batch_wandb(\n",
    "                        counter.get_value(),\n",
    "                        loss.detach().item(), \n",
    "                        output.transpose(0, 1).detach(),\n",
    "                        labels, \n",
    "                        input_lengths, \n",
    "                        label_lengths\n",
    "                    )\n",
    "\n",
    "                torch.cuda.empty_cache()\n",
    "\n",
    "\n",
    "def test(model, device, test_loader, criterion, counter: Counter):\n",
    "    test_loss = 0\n",
    "    test_cer, test_wer = [], []\n",
    "\n",
    "    model.eval()\n",
    "    with torch.no_grad():\n",
    "            for i, _data in enumerate(test_loader):\n",
    "                    spectrograms, labels, input_lengths, label_lengths = _data \n",
    "                    spectrograms, labels = spectrograms.to(device), labels.to(device)\n",
    "\n",
    "                    output = model(spectrograms)  # (batch_size,n_class,time)\n",
    "                    output = F.log_softmax(output, dim=1)\n",
    "                    output = output.permute(2, 0, 1) # (time, batch_size, n_class)\n",
    "                    \n",
    "                    loss = criterion(output, labels, input_lengths, label_lengths)\n",
    "                    test_loss += loss.detach().item() / len(test_loader)\n",
    "\n",
    "                    decoded_preds, decoded_targets = ctc_greedy_decoder(\n",
    "                        output.transpose(0, 1), labels, input_lengths, label_lengths\n",
    "                    )\n",
    "                    for j in range(len(decoded_preds)):\n",
    "                        test_cer.append(calc_cer(decoded_targets[j], decoded_preds[j]))\n",
    "                        test_wer.append(calc_wer(decoded_targets[j], decoded_preds[j]))\n",
    "\n",
    "                        if i==0 and j==0:\n",
    "                            print('\\n'+'_'*100)\n",
    "                            print('target: ', decoded_targets[j])\n",
    "                            print('pred: ', decoded_preds[j])\n",
    "\n",
    "\n",
    "                    torch.cuda.empty_cache()\n",
    "\n",
    "    counter.step()\n",
    "    avg_cer = sum(test_cer)/len(test_cer)\n",
    "    avg_wer = sum(test_wer)/len(test_wer)\n",
    "    log_params(avg_cer,avg_wer,test_loss,counter.get_value(),'val')"
   ]
  },
  {
   "cell_type": "markdown",
   "id": "4e0bb404",
   "metadata": {},
   "source": [
    "# Create model"
   ]
  },
  {
   "cell_type": "code",
   "execution_count": 18,
   "id": "3a17d50d",
   "metadata": {},
   "outputs": [],
   "source": [
    "LEARNING_RATE=0.001\n",
    "BLANK_IDX=0\n",
    "\n",
    "b_params = [\n",
    "    {\n",
    "        'in': 256,\n",
    "        'out': 256,\n",
    "        'kernel': 33,\n",
    "        'stride': 1\n",
    "    },\n",
    "    {\n",
    "        'in': 256,\n",
    "        'out': 256,\n",
    "        'kernel': 39,\n",
    "        'stride': 1\n",
    "    },\n",
    "    {\n",
    "        'in': 256,\n",
    "        'out': 512,\n",
    "        'kernel': 51,\n",
    "        'stride': 1\n",
    "    },\n",
    "    {\n",
    "        'in': 512,\n",
    "        'out': 512,\n",
    "        'kernel': 63,\n",
    "        'stride': 1\n",
    "    },\n",
    "    {\n",
    "        'in': 512,\n",
    "        'out': 512,\n",
    "        'kernel': 75,\n",
    "        'stride': 1\n",
    "    },\n",
    "]\n",
    "c_params = {\n",
    "    'c_1': {\n",
    "        'in': 64,\n",
    "        'out': 256,\n",
    "        'kernel': 33,\n",
    "        'stride': 2\n",
    "    },\n",
    "    'c_2': {\n",
    "        'in': 512,\n",
    "        'out': 512,\n",
    "        'kernel': 87,\n",
    "        'stride': 1\n",
    "    },\n",
    "    'c_3': {\n",
    "        'in': 512,\n",
    "        'out': 1024,\n",
    "        'kernel': 1,\n",
    "        'stride': 1\n",
    "    },\n",
    "    'c_4': {\n",
    "        'in': 1024,\n",
    "        'out': 28,\n",
    "        'kernel': 1,\n",
    "        'stride': 1\n",
    "    },\n",
    "}\n",
    "\n",
    "parameters = {\n",
    "    'c_params': c_params,\n",
    "    'b_params': b_params,\n",
    "    'b_size': 5\n",
    "}"
   ]
  },
  {
   "cell_type": "code",
   "execution_count": 19,
   "id": "b4f4b03c",
   "metadata": {},
   "outputs": [],
   "source": [
    "model=QuartzNet(parameters)\n",
    "\n",
    "\n",
    "LAST_EPOCH=210\n",
    "\n",
    "MODEL_PATH='./models/QuartzNet/test/test_data-model-'+str(LAST_EPOCH)\n",
    "mp=torch.load(MODEL_PATH)\n",
    "model.load_state_dict(mp['model_state_dict'])\n",
    "\n",
    "model.to(device)\n",
    "\n",
    "optimizer = torch.optim.SGD(model.parameters(), lr=LEARNING_RATE, momentum=0.9) #torch.optim.AdamW(model.parameters(),lr=LEARNING_RATE)\n",
    "\n",
    "criterion = torch.nn.CTCLoss(blank=BLANK_IDX, reduction='sum').to(device)\n",
    "\n",
    "# scheduler = torch.optim.lr_scheduler.MultiStepLR(optimizer, milestones=[5,10], gamma=0.1)"
   ]
  },
  {
   "cell_type": "code",
   "execution_count": 20,
   "id": "30dc3ec3",
   "metadata": {},
   "outputs": [
    {
     "name": "stdout",
     "output_type": "stream",
     "text": [
      "Total parameters: 6736852\n",
      "\n",
      "Using device: cuda\n",
      "\n",
      "Tesla K80\n",
      "Memory Usage:\n",
      "Allocated: 0.1 GB\n",
      "Cached:    0.1 GB\n"
     ]
    }
   ],
   "source": [
    "def parameters_info(model):\n",
    "    print('Total parameters:',sum(p.numel() for p in model.parameters() if p.requires_grad),end='\\n\\n')\n",
    "\n",
    "parameters_info(model)\n",
    "device_info()"
   ]
  },
  {
   "cell_type": "code",
   "execution_count": 23,
   "id": "1904299c",
   "metadata": {},
   "outputs": [
    {
     "name": "stderr",
     "output_type": "stream",
     "text": [
      "  9%|▉         | 9/100 [1:01:18<10:19:48, 408.67s/it]"
     ]
    },
    {
     "name": "stdout",
     "output_type": "stream",
     "text": [
      "\n",
      "____________________________________________________________________________________________________\n",
      "target:  he hoped there would be stew for dinner turnips and carrots and bruised potatoes and fat mutton pieces to be ladled out in thick peppered flour fattened sauce\n",
      "pred:       \n"
     ]
    },
    {
     "name": "stderr",
     "output_type": "stream",
     "text": [
      " 19%|█▉        | 19/100 [2:42:20<9:47:52, 435.46s/it]  "
     ]
    },
    {
     "name": "stdout",
     "output_type": "stream",
     "text": [
      "\n",
      "____________________________________________________________________________________________________\n",
      "target:  he hoped there would be stew for dinner turnips and carrots and bruised potatoes and fat mutton pieces to be ladled out in thick peppered flour fattened sauce\n",
      "pred:  h d  t    t  td  t   \n"
     ]
    },
    {
     "name": "stderr",
     "output_type": "stream",
     "text": [
      " 29%|██▉       | 29/100 [4:19:02<8:34:37, 434.90s/it] "
     ]
    },
    {
     "name": "stdout",
     "output_type": "stream",
     "text": [
      "\n",
      "____________________________________________________________________________________________________\n",
      "target:  he hoped there would be stew for dinner turnips and carrots and bruised potatoes and fat mutton pieces to be ladled out in thick peppered flour fattened sauce\n",
      "pred:  h o ha the h the o he o he o the hd ho o the ha the od o o he h the o e a o\n"
     ]
    },
    {
     "name": "stderr",
     "output_type": "stream",
     "text": [
      " 39%|███▉      | 39/100 [5:57:23<7:15:54, 428.77s/it] "
     ]
    },
    {
     "name": "stdout",
     "output_type": "stream",
     "text": [
      "\n",
      "____________________________________________________________________________________________________\n",
      "target:  he hoped there would be stew for dinner turnips and carrots and bruised potatoes and fat mutton pieces to be ladled out in thick peppered flour fattened sauce\n",
      "pred:  he i ea  ae a e a e  e a e  o a e a e a e a   e a ia\n"
     ]
    },
    {
     "name": "stderr",
     "output_type": "stream",
     "text": [
      " 49%|████▉     | 49/100 [7:34:00<6:02:46, 426.80s/it] "
     ]
    },
    {
     "name": "stdout",
     "output_type": "stream",
     "text": [
      "\n",
      "____________________________________________________________________________________________________\n",
      "target:  he hoped there would be stew for dinner turnips and carrots and bruised potatoes and fat mutton pieces to be ladled out in thick peppered flour fattened sauce\n",
      "pred:  h e e e e i  e e en e o e a  e e a e a  a e e e  e e  e  e  i\n"
     ]
    },
    {
     "name": "stderr",
     "output_type": "stream",
     "text": [
      " 59%|█████▉    | 59/100 [9:11:29<4:54:24, 430.84s/it] "
     ]
    },
    {
     "name": "stdout",
     "output_type": "stream",
     "text": [
      "\n",
      "____________________________________________________________________________________________________\n",
      "target:  he hoped there would be stew for dinner turnips and carrots and bruised potatoes and fat mutton pieces to be ladled out in thick peppered flour fattened sauce\n",
      "pred:  h  e ee e e a  e e e  a te a e a t a e a te e e a e a a e e e\n"
     ]
    },
    {
     "name": "stderr",
     "output_type": "stream",
     "text": [
      " 69%|██████▉   | 69/100 [10:50:04<3:43:54, 433.37s/it]"
     ]
    },
    {
     "name": "stdout",
     "output_type": "stream",
     "text": [
      "\n",
      "____________________________________________________________________________________________________\n",
      "target:  he hoped there would be stew for dinner turnips and carrots and bruised potatoes and fat mutton pieces to be ladled out in thick peppered flour fattened sauce\n",
      "pred:  he a e e e e e    e e an te e ee ee a ee e e e e e e e e e e \n"
     ]
    },
    {
     "name": "stderr",
     "output_type": "stream",
     "text": [
      " 79%|███████▉  | 79/100 [12:27:57<2:32:32, 435.83s/it]"
     ]
    },
    {
     "name": "stdout",
     "output_type": "stream",
     "text": [
      "\n",
      "____________________________________________________________________________________________________\n",
      "target:  he hoped there would be stew for dinner turnips and carrots and bruised potatoes and fat mutton pieces to be ladled out in thick peppered flour fattened sauce\n",
      "pred:  h e a ee in ee e a  a a an e e ei e a e a e i e e ea e e e e  a a a e ae\n"
     ]
    },
    {
     "name": "stderr",
     "output_type": "stream",
     "text": [
      " 89%|████████▉ | 89/100 [14:05:47<1:18:46, 429.68s/it]"
     ]
    },
    {
     "name": "stdout",
     "output_type": "stream",
     "text": [
      "\n",
      "____________________________________________________________________________________________________\n",
      "target:  he hoped there would be stew for dinner turnips and carrots and bruised potatoes and fat mutton pieces to be ladled out in thick peppered flour fattened sauce\n",
      "pred:  h  e e e tee te an te an theo a an te on te on the a an e on e en ea a e e e te a a o a a a\n"
     ]
    },
    {
     "name": "stderr",
     "output_type": "stream",
     "text": [
      " 99%|█████████▉| 99/100 [15:45:51<07:10, 430.65s/it]   "
     ]
    },
    {
     "name": "stdout",
     "output_type": "stream",
     "text": [
      "\n",
      "____________________________________________________________________________________________________\n",
      "target:  he hoped there would be stew for dinner turnips and carrots and bruised potatoes and fat mutton pieces to be ladled out in thick peppered flour fattened sauce\n",
      "pred:  h e a e e e en e a ta e a e a the en e e e te a e e in  en e a a te e o e a a a ti a ie\n"
     ]
    },
    {
     "name": "stderr",
     "output_type": "stream",
     "text": [
      "100%|██████████| 100/100 [16:22:29<00:00, 589.49s/it]\n"
     ]
    }
   ],
   "source": [
    "from tqdm import tqdm\n",
    "\n",
    "epochs=100\n",
    "PATH='./models/QuartzNet/test3/'\n",
    "\n",
    "counter=Counter(33100)\n",
    "\n",
    "for epoch in tqdm(range(1, epochs + 1)):\n",
    "        train(model, device, test_data_loader, criterion, optimizer,counter)\n",
    "#         scheduler.step()\n",
    "    \n",
    "        if(epoch%10==0):\n",
    "            test(model, device, test_data_loader, criterion,counter)\n",
    "            torch.save({\n",
    "                'epoch': epoch,\n",
    "                'model_state_dict': model.state_dict(),\n",
    "                'optimizer_state_dict': optimizer.state_dict(),\n",
    "                'loss': criterion\n",
    "                }, PATH+'test_data-model-'+str(LAST_EPOCH+epoch))\n",
    "\n"
   ]
  },
  {
   "cell_type": "code",
   "execution_count": null,
   "id": "7f182fc5",
   "metadata": {},
   "outputs": [],
   "source": []
  },
  {
   "cell_type": "code",
   "execution_count": null,
   "id": "56393fdc",
   "metadata": {},
   "outputs": [],
   "source": []
  },
  {
   "cell_type": "code",
   "execution_count": null,
   "id": "c9231089",
   "metadata": {},
   "outputs": [],
   "source": []
  },
  {
   "cell_type": "code",
   "execution_count": null,
   "id": "d3d52e96",
   "metadata": {},
   "outputs": [],
   "source": []
  },
  {
   "cell_type": "code",
   "execution_count": null,
   "id": "5adb25bf",
   "metadata": {},
   "outputs": [],
   "source": [
    "from matplotlib import pyplot as plt\n",
    "\n",
    "def plot_s(spec):\n",
    "    plt.figure(figsize=(20, 5))\n",
    "    plt.imshow(spec.squeeze().log())\n",
    "    plt.xlabel('Time', size=20)\n",
    "    plt.ylabel('Mels', size=20)\n",
    "    plt.show()"
   ]
  },
  {
   "cell_type": "code",
   "execution_count": 42,
   "id": "9c7fc2f0",
   "metadata": {
    "scrolled": false
   },
   "outputs": [
    {
     "data": {
      "image/png": "[encoded data removed]",
      "text/plain": [
       "<Figure size 1440x360 with 1 Axes>"
      ]
     },
     "metadata": {
      "needs_background": "light"
     },
     "output_type": "display_data"
    }
   ],
   "source": [
    "for b in test_data_loader:\n",
    "    plot_s(b[0])\n",
    "    break\n",
    "    "
   ]
  },
  {
   "cell_type": "code",
   "execution_count": null,
   "id": "a9d0853f",
   "metadata": {},
   "outputs": [],
   "source": []
  },
  {
   "cell_type": "code",
   "execution_count": 28,
   "id": "b434242b",
   "metadata": {},
   "outputs": [],
   "source": [
    "def dec(labels,label_lengths):\n",
    "    for i,l in enumerate(labels):\n",
    "        print(text_transform.int_to_text(labels[i][:label_lengths[i]].tolist()))\n",
    "        print()\n",
    "\n"
   ]
  },
  {
   "cell_type": "code",
   "execution_count": null,
   "id": "e378ee2c",
   "metadata": {},
   "outputs": [],
   "source": []
  },
  {
   "cell_type": "code",
   "execution_count": null,
   "id": "d25bd3a3",
   "metadata": {},
   "outputs": [],
   "source": []
  }
 ],
 "metadata": {
  "kernelspec": {
   "display_name": "Python 3 (ipykernel)",
   "language": "python",
   "name": "python3"
  },
  "language_info": {
   "codemirror_mode": {
    "name": "ipython",
    "version": 3
   },
   "file_extension": ".py",
   "mimetype": "text/x-python",
   "name": "python",
   "nbconvert_exporter": "python",
   "pygments_lexer": "ipython3",
   "version": "3.8.10"
  }
 },
 "nbformat": 4,
 "nbformat_minor": 5
}
